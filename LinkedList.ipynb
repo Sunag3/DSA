{
 "cells": [
  {
   "cell_type": "markdown",
   "id": "323dcb0f",
   "metadata": {},
   "source": [
    "Node initialization class"
   ]
  },
  {
   "cell_type": "code",
   "execution_count": 2,
   "id": "5f17c50b",
   "metadata": {},
   "outputs": [],
   "source": [
    "class Node:\n",
    "    def __init__(self,x):\n",
    "        self.val = x\n",
    "        self.next = None"
   ]
  },
  {
   "cell_type": "markdown",
   "id": "b0d8471e",
   "metadata": {},
   "source": [
    "# How to access the element at kth.idx in a linked-list"
   ]
  },
  {
   "cell_type": "code",
   "execution_count": 124,
   "id": "696099ea",
   "metadata": {},
   "outputs": [
    {
     "name": "stdout",
     "output_type": "stream",
     "text": [
      "Linked List after insertion:\n",
      "False\n",
      "<__main__.Node object at 0x0000027F35DF90A0>\n"
     ]
    }
   ],
   "source": [
    "class LinkedList:\n",
    "    def __init__(self):\n",
    "        self.head = None\n",
    "    \n",
    "    def insert(self,data,k):\n",
    "        node = Node(data)\n",
    "        temp = self.head\n",
    "        \n",
    "        if k==0:\n",
    "            node.next = self.head\n",
    "            self.head = node\n",
    "            return\n",
    "\n",
    "        if self.head is None:\n",
    "            if k == 0:\n",
    "                self.head = node\n",
    "            return\n",
    "\n",
    "        for i in range(k-1):\n",
    "            if temp.next is None:\n",
    "                break\n",
    "            temp = temp.next\n",
    "\n",
    "        node.next = temp.next\n",
    "        temp.next = node\n",
    "    \n",
    "    def display(self):\n",
    "        temp = self.head\n",
    "        while temp:\n",
    "            print(temp.val)\n",
    "            temp = temp.next\n",
    "    def searchElement(self,k):\n",
    "        temp = self.head\n",
    "        while temp:\n",
    "            if temp.val == k:\n",
    "                return True\n",
    "            else:\n",
    "                temp = temp.next\n",
    "        return False\n",
    "    \n",
    "    \n",
    "        \n",
    "\n",
    "if __name__ == \"__main__\":\n",
    "    ll = LinkedList()\n",
    "    ll.insert(1, 0)  # Insert 1 at position 0\n",
    "    ll.insert(2, 1)  # Insert 2 at position 1\n",
    "    ll.insert(1, 2)  # Insert 3 at position 1 (between 1 and 2)\n",
    "    ll.insert(3, 3)\n",
    "    ll.insert(1, 4)\n",
    "    print(\"Linked List after insertion:\")\n",
    "    \n",
    "    print(ll.searchElement(5))\n",
    "    print(ll.head)"
   ]
  },
  {
   "cell_type": "markdown",
   "id": "1b3c9aa4",
   "metadata": {},
   "source": [
    "# Longest Palindromic List"
   ]
  },
  {
   "cell_type": "markdown",
   "id": "0fe29cfb",
   "metadata": {},
   "source": [
    "Problem Description\n",
    "\n",
    "Given a linked list of integers. Find and return the length of the longest palindrome list that exists in that linked list.\n",
    "\n",
    "A palindrome list is a list that reads the same backward and forward.\n",
    "\n",
    "Expected memory complexity : O(1)\n",
    "\n",
    "\n",
    "\n",
    "Problem Constraints\n",
    "\n",
    "1 <= length of the linked list <= 2000\n",
    "\n",
    "1 <= Node value <= 100\n",
    "\n",
    "\n",
    "\n",
    "Input Format\n",
    "\n",
    "The only argument given is head pointer of the linked list.\n",
    "\n",
    "\n",
    "\n",
    "Output Format\n",
    "\n",
    "Return the length of the longest palindrome list.\n",
    "\n",
    "\n",
    "\n",
    "Example Input\n",
    "\n",
    "Input 1:\n",
    "\n",
    " 2 -> 3 -> 3 -> 3\n",
    "Input 2:\n",
    "\n",
    " 2 -> 1 -> 2 -> 1 ->  2 -> 2 -> 1 -> 3 -> 2 -> 2\n",
    "\n",
    "\n",
    "Example Output\n",
    "\n",
    "Output 1:\n",
    "\n",
    " 3\n",
    "Output 2:\n",
    "\n",
    " 5\n",
    "\n",
    "\n",
    "Example Explanation\n",
    "\n",
    "Explanation 1:\n",
    "\n",
    " 3 -> 3 -> 3 is largest palindromic sublist\n",
    "Explanation 2:\n",
    "\n",
    " 2 -> 1 -> 2 -> 1 -> 2 is largest palindromic sublist."
   ]
  },
  {
   "cell_type": "code",
   "execution_count": 16,
   "id": "d84c53c7",
   "metadata": {},
   "outputs": [],
   "source": [
    "class Solution:\n",
    "    # @param A : head node of linked list\n",
    "    # @return an integer\n",
    "    \n",
    "    @staticmethod\n",
    "    def counts(A,B):\n",
    "        nums = 0\n",
    "        while A and B:\n",
    "            if A.val == B.val:\n",
    "                nums+=1\n",
    "            else:\n",
    "                break\n",
    "            A = A.next\n",
    "            B = B.next\n",
    "        return nums\n",
    "\n",
    "    def solve(self, A):\n",
    "        # define the pointers\n",
    "        \n",
    "        current = A\n",
    "        previous = None\n",
    "        next_node = None\n",
    "        # initialize max length of palindromes\n",
    "        ans = 0\n",
    "        \n",
    "        while current:\n",
    "            \n",
    "            \n",
    "            next_node = current.next\n",
    "            current.next = previous\n",
    "            \n",
    "            # from this current point check for even length palindromes\n",
    "            # 2x\n",
    "            ans = max(ans, 2*Solution.counts(current, next_node))\n",
    "            \n",
    "            # from previous and nextnode check for odd palindromes\n",
    "            # which is 2x+1\n",
    "            \n",
    "            ans = max(ans, (2*Solution.counts(previous, next_node))+1)\n",
    "            \n",
    "            # move pointers ahead\n",
    "            \n",
    "            previous = current\n",
    "            current = next_node\n",
    "            \n",
    "        return ans\n",
    "        \n",
    "        "
   ]
  },
  {
   "cell_type": "code",
   "execution_count": 22,
   "id": "8841b857",
   "metadata": {},
   "outputs": [
    {
     "data": {
      "text/plain": [
       "3"
      ]
     },
     "execution_count": 22,
     "metadata": {},
     "output_type": "execute_result"
    }
   ],
   "source": [
    "Solution().solve(ll.head)"
   ]
  },
  {
   "cell_type": "markdown",
   "id": "fea905dc",
   "metadata": {},
   "source": [
    "# Print Linked List\n"
   ]
  },
  {
   "cell_type": "markdown",
   "id": "60b42c6e",
   "metadata": {},
   "source": [
    "Problem Description\n",
    "\n",
    "You are given A which is the head of a linked list. Print the linked list in space separated manner.\n",
    "\n",
    "Note : The last node value must also be succeeded by a space and after printing the entire list you should print a new line\n",
    "\n",
    "\n",
    "\n",
    "Problem Constraints\n",
    "\n",
    "1 <= size of linked list <= 105\n",
    "\n",
    "1 <= value of nodes <= 109\n",
    "\n",
    "\n",
    "\n",
    "Input Format\n",
    "\n",
    "The first argument A is the head of a linked list.\n",
    "\n",
    "\n",
    "Output Format\n",
    "\n",
    "You dont need to return anything\n",
    "\n",
    "\n",
    "Example Input\n",
    "\n",
    "Input 1:\n",
    "A = 1 -> 2 -> 3\n",
    "Input 2:\n",
    "A = 4 -> 3 -> 2 -> 1\n",
    "\n",
    "\n",
    "Example Output\n",
    "\n",
    "Output 1:\n",
    "1 2 3\n",
    "Output 2:\n",
    "4 3 2 1\n",
    "\n",
    "\n",
    "Example Explanation\n",
    "\n",
    "For Input 1:\n",
    "We print the given linked list\n",
    "For Input 2:\n",
    "We print the given linked list"
   ]
  },
  {
   "cell_type": "code",
   "execution_count": 99,
   "id": "85377863",
   "metadata": {},
   "outputs": [],
   "source": [
    "class DisplaySolution:\n",
    "    # @param A : head node of linked list\n",
    "    def solve(self, A):\n",
    "        temp = A\n",
    "        while temp:\n",
    "            print(temp.val, end=\" \")\n",
    "            temp= temp.next\n",
    "        print()"
   ]
  },
  {
   "cell_type": "code",
   "execution_count": 102,
   "id": "7aa74011",
   "metadata": {},
   "outputs": [
    {
     "name": "stdout",
     "output_type": "stream",
     "text": [
      "1 2 1 3 1 \n"
     ]
    }
   ],
   "source": [
    "DisplaySolution().solve(ll.head)"
   ]
  },
  {
   "cell_type": "markdown",
   "id": "c953367c",
   "metadata": {},
   "source": [
    "# Insert in Linked List\n"
   ]
  },
  {
   "cell_type": "markdown",
   "id": "386d72db",
   "metadata": {},
   "source": [
    "Problem Description\n",
    "\n",
    "You are given A which is the head of a linked list. Also given is the value B and position C. Complete the function that should insert a new node with the said value at the given position.\n",
    "\n",
    "Notes:\n",
    "\n",
    "In case the position is more than length of linked list, simply insert the new node at the tail only.\n",
    "In case the pos is 0, simply insert the new node at head only.\n",
    "Follow 0-based indexing for the node numbering.\n",
    "\n",
    "\n",
    "Problem Constraints\n",
    "\n",
    "0 <= size of linked list <= 105\n",
    "\n",
    "1 <= value of nodes <= 109\n",
    "\n",
    "1 <= B <= 109\n",
    "\n",
    "0 <= C <= 105\n",
    "\n",
    "\n",
    "\n",
    "Input Format\n",
    "\n",
    "The first argument A is the head of a linked list.\n",
    "\n",
    "The second argument B is an integer which denotes the value of the new node\n",
    "\n",
    "The third argument C is an integer which denotes the position of the new node\n",
    "\n",
    "\n",
    "\n",
    "Output Format\n",
    "\n",
    "Return the head of the linked list\n",
    "\n",
    "\n",
    "Example Input\n",
    "\n",
    "Input 1:\n",
    "A = 1 -> 2\n",
    "B = 3\n",
    "C = 0\n",
    "Input 2:\n",
    "A = 1 -> 2\n",
    "B = 3\n",
    "C = 1\n",
    "\n",
    "\n",
    "Example Output\n",
    "\n",
    "Output 1:\n",
    "3 -> 1 -> 2\n",
    "Output 2:\n",
    "1 -> 3 -> 2\n",
    "\n",
    "\n",
    "Example Explanation\n",
    "\n",
    "For Input 1:\n",
    "The new node is add to the head of the linked list\n",
    "For Input 2:\n",
    "The new node is added after the first node of the linked list\n"
   ]
  },
  {
   "cell_type": "code",
   "execution_count": 41,
   "id": "024b3097",
   "metadata": {},
   "outputs": [],
   "source": [
    "class Node:\n",
    "    def __init__(self, x):\n",
    "        self.val = x\n",
    "        self.next = None\n",
    "\n",
    "class InsertSolution:\n",
    "    # @param A : head node of linked list\n",
    "    # @param B : integer (value of new node)\n",
    "    # @param C : integer (index where new node should be inserted)\n",
    "    # @return the head node in the linked list\n",
    "    def solve(self, A, B, C):\n",
    "        # create a new node\n",
    "        \n",
    "        new_node = Node(B)\n",
    "        \n",
    "        # Edge cases\n",
    "        # if A is Node\n",
    "        # return new node\n",
    "        if not A:\n",
    "            return new_node\n",
    "        \n",
    "        # if position is 0\n",
    "        # make new node as head\n",
    "        \n",
    "        if C == 0:\n",
    "            new_node.next = A\n",
    "            \n",
    "        current = A\n",
    "        position = 0\n",
    "        \n",
    "        while current and position< C-1:\n",
    "            current = current.next\n",
    "            position+=1\n",
    "        \n",
    "        # if current is none insert at last\n",
    "        \n",
    "        if not current:\n",
    "            current = A\n",
    "            while current.next:\n",
    "                current = current.next\n",
    "            current.next = new_node\n",
    "        else:\n",
    "            new_node.next = current.next\n",
    "            current.next = new_node\n",
    "        return A\n",
    "            \n",
    "    "
   ]
  },
  {
   "cell_type": "code",
   "execution_count": 53,
   "id": "a3aab35d",
   "metadata": {},
   "outputs": [
    {
     "data": {
      "text/plain": [
       "<__main__.Node at 0x27f35db4880>"
      ]
     },
     "execution_count": 53,
     "metadata": {},
     "output_type": "execute_result"
    }
   ],
   "source": [
    "InsertSolution().solve(ll.head,10,10)"
   ]
  },
  {
   "cell_type": "markdown",
   "id": "e4df053f",
   "metadata": {},
   "source": [
    "# Delete in Linked List\n"
   ]
  },
  {
   "cell_type": "markdown",
   "id": "6c4d610c",
   "metadata": {},
   "source": [
    "Problem Description\n",
    "\n",
    "You are given the head of a linked list A and an integer B. Delete the B-th node from the linked list.\n",
    "\n",
    "Note : Follow 0-based indexing for the node numbering.\n",
    "\n",
    "\n",
    "\n",
    "Problem Constraints\n",
    "\n",
    "1 <= size of linked list <= 105\n",
    "1 <= value of nodes <= 109\n",
    "0 <= B < size of linked list\n",
    "\n",
    "\n",
    "\n",
    "\n",
    "Input Format\n",
    "\n",
    "The first argument A is the head of a linked list.\n",
    "\n",
    "The second arguement B is an integer.\n",
    "\n",
    "\n",
    "\n",
    "Output Format\n",
    "\n",
    "Return the head of the linked list after deletion\n",
    "\n",
    "\n",
    "\n",
    "Example Input\n",
    "\n",
    "Input 1:\n",
    "A = 1 -> 2 -> 3\n",
    "B = 1\n",
    "Input 2:\n",
    "A = 4 -> 3 -> 2 -> 1\n",
    "B = 0\n",
    "\n",
    "\n",
    "Example Output\n",
    "\n",
    "Output 1:\n",
    "1 -> 3\n",
    "Output 2:\n",
    "3 -> 2 -> 1\n",
    "\n",
    "\n",
    "Example Explanation\n",
    "\n",
    "For Input 1:\n",
    "The linked list after deletion is 1 -> 3.\n",
    "For Input 2:\n",
    "The linked list after deletion is 3 -> 2 -> 1."
   ]
  },
  {
   "cell_type": "code",
   "execution_count": 50,
   "id": "e4728a54",
   "metadata": {},
   "outputs": [],
   "source": [
    "class DeleteSolution:\n",
    "    # @param A : head node of linked list\n",
    "    # @param B : integer\n",
    "    # @return the head node in the linked list\n",
    "    def solve(self, A, B):\n",
    "        current = A\n",
    "        \n",
    "        if not A:\n",
    "            return\n",
    "        if B == 0:\n",
    "            A = A.next\n",
    "            return A\n",
    "        \n",
    "        for i in range(B-1):\n",
    "            current = current.next\n",
    "        k = current.next\n",
    "        current.next = k.next\n",
    "        k.next = None\n",
    "        \n",
    "        return A"
   ]
  },
  {
   "cell_type": "code",
   "execution_count": 59,
   "id": "623acac5",
   "metadata": {},
   "outputs": [
    {
     "data": {
      "text/plain": [
       "<__main__.Node at 0x27f35db4880>"
      ]
     },
     "execution_count": 59,
     "metadata": {},
     "output_type": "execute_result"
    }
   ],
   "source": [
    "DeleteSolution().solve(ll.head,1)"
   ]
  },
  {
   "cell_type": "code",
   "execution_count": 72,
   "id": "f27d943d",
   "metadata": {},
   "outputs": [
    {
     "name": "stdout",
     "output_type": "stream",
     "text": [
      "1 \n"
     ]
    }
   ],
   "source": [
    "Solution().solve(ll.head)"
   ]
  },
  {
   "cell_type": "markdown",
   "id": "3f687e00",
   "metadata": {},
   "source": [
    "# Reverse Linked List\n"
   ]
  },
  {
   "cell_type": "markdown",
   "id": "937380b2",
   "metadata": {},
   "source": [
    "Problem Description\n",
    "\n",
    "You are given a singly linked list having head node A. You have to reverse the linked list and return the head node of that reversed list.\n",
    "\n",
    "NOTE: You have to do it in-place and in one-pass.\n",
    "\n",
    "\n",
    "\n",
    "Problem Constraints\n",
    "\n",
    "1 <= Length of linked list <= 105\n",
    "\n",
    "Value of each node is within the range of a 32-bit integer.\n",
    "\n",
    "\n",
    "\n",
    "Input Format\n",
    "\n",
    "First and only argument is a linked-list node A.\n",
    "\n",
    "\n",
    "\n",
    "Output Format\n",
    "\n",
    "Return a linked-list node denoting the head of the reversed linked list.\n",
    "\n",
    "\n",
    "\n",
    "Example Input\n",
    "\n",
    "Input 1:\n",
    "\n",
    " A = 1 -> 2 -> 3 -> 4 -> 5 -> NULL \n",
    "Input 2:\n",
    "\n",
    " A = 3 -> NULL \n",
    "\n",
    "\n",
    "Example Output\n",
    "\n",
    "Output 1:\n",
    "\n",
    " 5 -> 4 -> 3 -> 2 -> 1 -> NULL \n",
    "Output 2:\n",
    "\n",
    " 3 -> NULL "
   ]
  },
  {
   "cell_type": "code",
   "execution_count": 117,
   "id": "fc86eed4",
   "metadata": {},
   "outputs": [],
   "source": [
    "class ReverseSolution:\n",
    "    # @param A : head node of linked list\n",
    "    # @return the head node in the linked list\n",
    "    def reverseList(self, A):\n",
    "        if A.next is None:\n",
    "            return A\n",
    "        \n",
    "        current = A\n",
    "        prev = None\n",
    "        next_node = A.next\n",
    "        \n",
    "        while current:\n",
    "            next_node = current.next\n",
    "            current.next = prev\n",
    "            prev = current\n",
    "            current = next_node\n",
    "        return prev"
   ]
  },
  {
   "cell_type": "code",
   "execution_count": 126,
   "id": "92b91ed6",
   "metadata": {},
   "outputs": [
    {
     "name": "stdout",
     "output_type": "stream",
     "text": [
      "1 \n"
     ]
    }
   ],
   "source": [
    "new_head = ReverseSolution().reverseList(ll.head)\n",
    "DisplaySolution().solve(new_head)"
   ]
  },
  {
   "cell_type": "code",
   "execution_count": 135,
   "id": "7b122ab7",
   "metadata": {},
   "outputs": [
    {
     "name": "stdout",
     "output_type": "stream",
     "text": [
      "Original list:\n",
      "1 2 3 4 5 \n",
      "5 4 3 2 1 \n"
     ]
    }
   ],
   "source": [
    "ll = LinkedList()\n",
    "ll.insert(1, 0)\n",
    "ll.insert(2, 1)\n",
    "ll.insert(3, 2)\n",
    "ll.insert(4,3)\n",
    "ll.insert(5, 4)\n",
    "print(\"Original list:\")\n",
    "DisplaySolution().solve(ll.head)\n",
    "new_head = ReverseSolution().reverseList(ll.head)\n",
    "DisplaySolution().solve(new_head)"
   ]
  },
  {
   "cell_type": "markdown",
   "id": "5d761f3d",
   "metadata": {},
   "source": [
    "# Appending to LL"
   ]
  },
  {
   "cell_type": "code",
   "execution_count": 133,
   "id": "1fcb43f0",
   "metadata": {},
   "outputs": [],
   "source": [
    "class Node:\n",
    "    def __init__(self,val):\n",
    "        self.val = val\n",
    "        self.next = None\n",
    "\n",
    "class AppendtoLL:\n",
    "    def append(self, val, head):\n",
    "        new_node = Node(val)\n",
    "        if head is None:\n",
    "            return new_node\n",
    "        \n",
    "        current = head\n",
    "        while current.next:\n",
    "            current = current.next\n",
    "        current.next = new_node\n",
    "        \n",
    "        return head"
   ]
  },
  {
   "cell_type": "code",
   "execution_count": 137,
   "id": "9c30be6e",
   "metadata": {},
   "outputs": [
    {
     "name": "stdout",
     "output_type": "stream",
     "text": [
      "1 2 3 4 5 \n",
      "1 2 3 4 5 8 \n"
     ]
    }
   ],
   "source": [
    "ll = LinkedList()\n",
    "ll.insert(1, 0)\n",
    "ll.insert(2, 1)\n",
    "ll.insert(3, 2)\n",
    "ll.insert(4,3)\n",
    "ll.insert(5, 4)\n",
    "DisplaySolution().solve(ll.head)\n",
    "AppendtoLL().append(8,ll.head)\n",
    "DisplaySolution().solve(ll.head)"
   ]
  },
  {
   "cell_type": "markdown",
   "id": "16c1960b",
   "metadata": {},
   "source": [
    "# Q5. Palindrome List\n"
   ]
  },
  {
   "cell_type": "markdown",
   "id": "6a2add1e",
   "metadata": {},
   "source": [
    "Problem Description\n",
    "\n",
    "Given a singly linked list A, determine if it's a palindrome. Return 1 or 0, denoting if it's a palindrome or not, respectively.\n",
    "\n",
    "\n",
    "\n",
    "Problem Constraints\n",
    "\n",
    "1 <= |A| <= 105\n",
    "\n",
    "\n",
    "\n",
    "Input Format\n",
    "\n",
    "The first and the only argument of input contains a pointer to the head of the given linked list.\n",
    "\n",
    "\n",
    "\n",
    "Output Format\n",
    "\n",
    "Return 0, if the linked list is not a palindrome.\n",
    "\n",
    "Return 1, if the linked list is a palindrome.\n",
    "\n",
    "\n",
    "\n",
    "Example Input\n",
    "\n",
    "Input 1:\n",
    "\n",
    "A = [1, 2, 2, 1]\n",
    "Input 2:\n",
    "\n",
    "A = [1, 3, 2]\n",
    "\n",
    "\n",
    "Example Output\n",
    "\n",
    "Output 1:\n",
    "\n",
    " 1 \n",
    "Output 2:\n",
    "\n",
    " 0 \n",
    "\n",
    "\n",
    "Example Explanation\n",
    "\n",
    "Explanation 1:\n",
    "\n",
    " The first linked list is a palindrome as [1, 2, 2, 1] is equal to its reversed form.\n",
    "Explanation 2:\n",
    "\n",
    " The second linked list is not a palindrom as [1, 3, 2] is not equal to [2, 3, 1]."
   ]
  },
  {
   "cell_type": "code",
   "execution_count": 158,
   "id": "a0b0facf",
   "metadata": {},
   "outputs": [],
   "source": [
    "class CheckPalindrome:\n",
    "    def reverseList(self, A):\n",
    "        if not A.next:\n",
    "            return A\n",
    "        \n",
    "        current = A\n",
    "        previous = None\n",
    "        newxt_node = None\n",
    "        \n",
    "        while current:\n",
    "            newxt_node = current.next\n",
    "            current.next = previous\n",
    "            previous = current\n",
    "            current = newxt_node\n",
    "        return previous\n",
    "    \n",
    "    def solve(self, A):\n",
    "        # find a n value\n",
    "        current = A\n",
    "        n = 0\n",
    "        while current:\n",
    "            current=current.next\n",
    "            n+=1\n",
    "        \n",
    "        # if n = 1 \n",
    "        if n==1:\n",
    "            return 1\n",
    "        \n",
    "        # if n is even middle = (n/2)-1\n",
    "        if n%2==0:\n",
    "            mid = (n//2)-1\n",
    "        else:\n",
    "            mid = n//2\n",
    "            \n",
    "        # traverse upto mid\n",
    "        middle = A\n",
    "        for i in range(mid):\n",
    "            middle = middle.next\n",
    "        \n",
    "        second_ll = middle.next\n",
    "        middle.next = None\n",
    "        \n",
    "        new_head = self.reverseList(second_ll)\n",
    "        \n",
    "        # compare\n",
    "        curr1 = A\n",
    "        curr2 = new_head\n",
    "        \n",
    "        while curr1 and curr2:\n",
    "            if curr1.val == curr2.val:\n",
    "                curr1 = curr1.next\n",
    "                curr2 = curr2.next\n",
    "            else:\n",
    "                return 0\n",
    "        return 1\n",
    "            \n",
    "            "
   ]
  },
  {
   "cell_type": "code",
   "execution_count": 169,
   "id": "cb450914",
   "metadata": {},
   "outputs": [
    {
     "data": {
      "text/plain": [
       "1"
      ]
     },
     "execution_count": 169,
     "metadata": {},
     "output_type": "execute_result"
    }
   ],
   "source": [
    "class ListNode:\n",
    "    def __init__(self, val=0, next=None):\n",
    "        self.val = val\n",
    "        self.next = next\n",
    "        \n",
    "head = ListNode(1)\n",
    "head.next = ListNode(2)\n",
    "head.next.next = ListNode(2)\n",
    "head.next.next.next = ListNode(1)\n",
    "\n",
    "CheckPalindrome().solve(head)"
   ]
  },
  {
   "cell_type": "code",
   "execution_count": null,
   "id": "4eaa3039",
   "metadata": {},
   "outputs": [],
   "source": []
  }
 ],
 "metadata": {
  "kernelspec": {
   "display_name": "Python 3",
   "language": "python",
   "name": "python3"
  },
  "language_info": {
   "codemirror_mode": {
    "name": "ipython",
    "version": 3
   },
   "file_extension": ".py",
   "mimetype": "text/x-python",
   "name": "python",
   "nbconvert_exporter": "python",
   "pygments_lexer": "ipython3",
   "version": "3.9.1"
  }
 },
 "nbformat": 4,
 "nbformat_minor": 5
}
