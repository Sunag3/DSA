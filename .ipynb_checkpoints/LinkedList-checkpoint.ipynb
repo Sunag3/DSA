{
 "cells": [
  {
   "cell_type": "markdown",
   "id": "323dcb0f",
   "metadata": {},
   "source": [
    "Node initialization class"
   ]
  },
  {
   "cell_type": "code",
   "execution_count": 2,
   "id": "5f17c50b",
   "metadata": {},
   "outputs": [],
   "source": [
    "class Node:\n",
    "    def __init__(self,x):\n",
    "        self.val = x\n",
    "        self.next = None"
   ]
  },
  {
   "cell_type": "markdown",
   "id": "b0d8471e",
   "metadata": {},
   "source": [
    "# How to access the element at kth.idx in a linked-list"
   ]
  },
  {
   "cell_type": "code",
   "execution_count": 124,
   "id": "696099ea",
   "metadata": {},
   "outputs": [
    {
     "name": "stdout",
     "output_type": "stream",
     "text": [
      "Linked List after insertion:\n",
      "False\n",
      "<__main__.Node object at 0x0000027F35DF90A0>\n"
     ]
    }
   ],
   "source": [
    "class LinkedList:\n",
    "    def __init__(self):\n",
    "        self.head = None\n",
    "    \n",
    "    def insert(self,data,k):\n",
    "        node = Node(data)\n",
    "        temp = self.head\n",
    "        \n",
    "        if k==0:\n",
    "            node.next = self.head\n",
    "            self.head = node\n",
    "            return\n",
    "\n",
    "        if self.head is None:\n",
    "            if k == 0:\n",
    "                self.head = node\n",
    "            return\n",
    "\n",
    "        for i in range(k-1):\n",
    "            if temp.next is None:\n",
    "                break\n",
    "            temp = temp.next\n",
    "\n",
    "        node.next = temp.next\n",
    "        temp.next = node\n",
    "    \n",
    "    def display(self):\n",
    "        temp = self.head\n",
    "        while temp:\n",
    "            print(temp.val)\n",
    "            temp = temp.next\n",
    "    def searchElement(self,k):\n",
    "        temp = self.head\n",
    "        while temp:\n",
    "            if temp.val == k:\n",
    "                return True\n",
    "            else:\n",
    "                temp = temp.next\n",
    "        return False\n",
    "    \n",
    "    \n",
    "        \n",
    "\n",
    "if __name__ == \"__main__\":\n",
    "    ll = LinkedList()\n",
    "    ll.insert(1, 0)  # Insert 1 at position 0\n",
    "    ll.insert(2, 1)  # Insert 2 at position 1\n",
    "    ll.insert(1, 2)  # Insert 3 at position 1 (between 1 and 2)\n",
    "    ll.insert(3, 3)\n",
    "    ll.insert(1, 4)\n",
    "    print(\"Linked List after insertion:\")\n",
    "    \n",
    "    print(ll.searchElement(5))\n",
    "    print(ll.head)"
   ]
  },
  {
   "cell_type": "markdown",
   "id": "732141f3",
   "metadata": {},
   "source": [
    "# Longest Palindromic List"
   ]
  },
  {
   "cell_type": "markdown",
   "id": "811a69bb",
   "metadata": {},
   "source": [
    "Problem Description\n",
    "\n",
    "Given a linked list of integers. Find and return the length of the longest palindrome list that exists in that linked list.\n",
    "\n",
    "A palindrome list is a list that reads the same backward and forward.\n",
    "\n",
    "Expected memory complexity : O(1)\n",
    "\n",
    "\n",
    "\n",
    "Problem Constraints\n",
    "\n",
    "1 <= length of the linked list <= 2000\n",
    "\n",
    "1 <= Node value <= 100\n",
    "\n",
    "\n",
    "\n",
    "Input Format\n",
    "\n",
    "The only argument given is head pointer of the linked list.\n",
    "\n",
    "\n",
    "\n",
    "Output Format\n",
    "\n",
    "Return the length of the longest palindrome list.\n",
    "\n",
    "\n",
    "\n",
    "Example Input\n",
    "\n",
    "Input 1:\n",
    "\n",
    " 2 -> 3 -> 3 -> 3\n",
    "Input 2:\n",
    "\n",
    " 2 -> 1 -> 2 -> 1 ->  2 -> 2 -> 1 -> 3 -> 2 -> 2\n",
    "\n",
    "\n",
    "Example Output\n",
    "\n",
    "Output 1:\n",
    "\n",
    " 3\n",
    "Output 2:\n",
    "\n",
    " 5\n",
    "\n",
    "\n",
    "Example Explanation\n",
    "\n",
    "Explanation 1:\n",
    "\n",
    " 3 -> 3 -> 3 is largest palindromic sublist\n",
    "Explanation 2:\n",
    "\n",
    " 2 -> 1 -> 2 -> 1 -> 2 is largest palindromic sublist."
   ]
  },
  {
   "cell_type": "code",
   "execution_count": 16,
   "id": "f07adb12",
   "metadata": {},
   "outputs": [],
   "source": [
    "class Solution:\n",
    "    # @param A : head node of linked list\n",
    "    # @return an integer\n",
    "    \n",
    "    @staticmethod\n",
    "    def counts(A,B):\n",
    "        nums = 0\n",
    "        while A and B:\n",
    "            if A.val == B.val:\n",
    "                nums+=1\n",
    "            else:\n",
    "                break\n",
    "            A = A.next\n",
    "            B = B.next\n",
    "        return nums\n",
    "\n",
    "    def solve(self, A):\n",
    "        # define the pointers\n",
    "        \n",
    "        current = A\n",
    "        previous = None\n",
    "        next_node = None\n",
    "        # initialize max length of palindromes\n",
    "        ans = 0\n",
    "        \n",
    "        while current:\n",
    "            \n",
    "            \n",
    "            next_node = current.next\n",
    "            current.next = previous\n",
    "            \n",
    "            # from this current point check for even length palindromes\n",
    "            # 2x\n",
    "            ans = max(ans, 2*Solution.counts(current, next_node))\n",
    "            \n",
    "            # from previous and nextnode check for odd palindromes\n",
    "            # which is 2x+1\n",
    "            \n",
    "            ans = max(ans, (2*Solution.counts(previous, next_node))+1)\n",
    "            \n",
    "            # move pointers ahead\n",
    "            \n",
    "            previous = current\n",
    "            current = next_node\n",
    "            \n",
    "        return ans\n",
    "        \n",
    "        "
   ]
  },
  {
   "cell_type": "code",
   "execution_count": 22,
   "id": "c329f292",
   "metadata": {},
   "outputs": [
    {
     "data": {
      "text/plain": [
       "3"
      ]
     },
     "execution_count": 22,
     "metadata": {},
     "output_type": "execute_result"
    }
   ],
   "source": [
    "Solution().solve(ll.head)"
   ]
  },
  {
   "cell_type": "markdown",
   "id": "a769c09a",
   "metadata": {},
   "source": [
    "# Print Linked List\n"
   ]
  },
  {
   "cell_type": "markdown",
   "id": "13d1e688",
   "metadata": {},
   "source": [
    "Problem Description\n",
    "\n",
    "You are given A which is the head of a linked list. Print the linked list in space separated manner.\n",
    "\n",
    "Note : The last node value must also be succeeded by a space and after printing the entire list you should print a new line\n",
    "\n",
    "\n",
    "\n",
    "Problem Constraints\n",
    "\n",
    "1 <= size of linked list <= 105\n",
    "\n",
    "1 <= value of nodes <= 109\n",
    "\n",
    "\n",
    "\n",
    "Input Format\n",
    "\n",
    "The first argument A is the head of a linked list.\n",
    "\n",
    "\n",
    "Output Format\n",
    "\n",
    "You dont need to return anything\n",
    "\n",
    "\n",
    "Example Input\n",
    "\n",
    "Input 1:\n",
    "A = 1 -> 2 -> 3\n",
    "Input 2:\n",
    "A = 4 -> 3 -> 2 -> 1\n",
    "\n",
    "\n",
    "Example Output\n",
    "\n",
    "Output 1:\n",
    "1 2 3\n",
    "Output 2:\n",
    "4 3 2 1\n",
    "\n",
    "\n",
    "Example Explanation\n",
    "\n",
    "For Input 1:\n",
    "We print the given linked list\n",
    "For Input 2:\n",
    "We print the given linked list"
   ]
  },
  {
   "cell_type": "code",
   "execution_count": 99,
   "id": "75e17988",
   "metadata": {},
   "outputs": [],
   "source": [
    "class DisplaySolution:\n",
    "    # @param A : head node of linked list\n",
    "    def solve(self, A):\n",
    "        temp = A\n",
    "        while temp:\n",
    "            print(temp.val, end=\" \")\n",
    "            temp= temp.next\n",
    "        print()"
   ]
  },
  {
   "cell_type": "code",
   "execution_count": 102,
   "id": "3a4e49df",
   "metadata": {},
   "outputs": [
    {
     "name": "stdout",
     "output_type": "stream",
     "text": [
      "1 2 1 3 1 \n"
     ]
    }
   ],
   "source": [
    "DisplaySolution().solve(ll.head)"
   ]
  },
  {
   "cell_type": "markdown",
   "id": "12be5018",
   "metadata": {},
   "source": [
    "# Insert in Linked List\n"
   ]
  },
  {
   "cell_type": "markdown",
   "id": "fd596505",
   "metadata": {},
   "source": [
    "Problem Description\n",
    "\n",
    "You are given A which is the head of a linked list. Also given is the value B and position C. Complete the function that should insert a new node with the said value at the given position.\n",
    "\n",
    "Notes:\n",
    "\n",
    "In case the position is more than length of linked list, simply insert the new node at the tail only.\n",
    "In case the pos is 0, simply insert the new node at head only.\n",
    "Follow 0-based indexing for the node numbering.\n",
    "\n",
    "\n",
    "Problem Constraints\n",
    "\n",
    "0 <= size of linked list <= 105\n",
    "\n",
    "1 <= value of nodes <= 109\n",
    "\n",
    "1 <= B <= 109\n",
    "\n",
    "0 <= C <= 105\n",
    "\n",
    "\n",
    "\n",
    "Input Format\n",
    "\n",
    "The first argument A is the head of a linked list.\n",
    "\n",
    "The second argument B is an integer which denotes the value of the new node\n",
    "\n",
    "The third argument C is an integer which denotes the position of the new node\n",
    "\n",
    "\n",
    "\n",
    "Output Format\n",
    "\n",
    "Return the head of the linked list\n",
    "\n",
    "\n",
    "Example Input\n",
    "\n",
    "Input 1:\n",
    "A = 1 -> 2\n",
    "B = 3\n",
    "C = 0\n",
    "Input 2:\n",
    "A = 1 -> 2\n",
    "B = 3\n",
    "C = 1\n",
    "\n",
    "\n",
    "Example Output\n",
    "\n",
    "Output 1:\n",
    "3 -> 1 -> 2\n",
    "Output 2:\n",
    "1 -> 3 -> 2\n",
    "\n",
    "\n",
    "Example Explanation\n",
    "\n",
    "For Input 1:\n",
    "The new node is add to the head of the linked list\n",
    "For Input 2:\n",
    "The new node is added after the first node of the linked list\n"
   ]
  },
  {
   "cell_type": "code",
   "execution_count": 41,
   "id": "10db5471",
   "metadata": {},
   "outputs": [],
   "source": [
    "class Node:\n",
    "    def __init__(self, x):\n",
    "        self.val = x\n",
    "        self.next = None\n",
    "\n",
    "class InsertSolution:\n",
    "    # @param A : head node of linked list\n",
    "    # @param B : integer (value of new node)\n",
    "    # @param C : integer (index where new node should be inserted)\n",
    "    # @return the head node in the linked list\n",
    "    def solve(self, A, B, C):\n",
    "        # create a new node\n",
    "        \n",
    "        new_node = Node(B)\n",
    "        \n",
    "        # Edge cases\n",
    "        # if A is Node\n",
    "        # return new node\n",
    "        if not A:\n",
    "            return new_node\n",
    "        \n",
    "        # if position is 0\n",
    "        # make new node as head\n",
    "        \n",
    "        if C == 0:\n",
    "            new_node.next = A\n",
    "            \n",
    "        current = A\n",
    "        position = 0\n",
    "        \n",
    "        while current and position< C-1:\n",
    "            current = current.next\n",
    "            position+=1\n",
    "        \n",
    "        # if current is none insert at last\n",
    "        \n",
    "        if not current:\n",
    "            current = A\n",
    "            while current.next:\n",
    "                current = current.next\n",
    "            current.next = new_node\n",
    "        else:\n",
    "            new_node.next = current.next\n",
    "            current.next = new_node\n",
    "        return A\n",
    "            \n",
    "    "
   ]
  },
  {
   "cell_type": "code",
   "execution_count": 53,
   "id": "07d63f60",
   "metadata": {},
   "outputs": [
    {
     "data": {
      "text/plain": [
       "<__main__.Node at 0x27f35db4880>"
      ]
     },
     "execution_count": 53,
     "metadata": {},
     "output_type": "execute_result"
    }
   ],
   "source": [
    "InsertSolution().solve(ll.head,10,10)"
   ]
  },
  {
   "cell_type": "markdown",
   "id": "5c4ebd96",
   "metadata": {},
   "source": [
    "# Delete in Linked List\n"
   ]
  },
  {
   "cell_type": "markdown",
   "id": "da463237",
   "metadata": {},
   "source": [
    "Problem Description\n",
    "\n",
    "You are given the head of a linked list A and an integer B. Delete the B-th node from the linked list.\n",
    "\n",
    "Note : Follow 0-based indexing for the node numbering.\n",
    "\n",
    "\n",
    "\n",
    "Problem Constraints\n",
    "\n",
    "1 <= size of linked list <= 105\n",
    "1 <= value of nodes <= 109\n",
    "0 <= B < size of linked list\n",
    "\n",
    "\n",
    "\n",
    "\n",
    "Input Format\n",
    "\n",
    "The first argument A is the head of a linked list.\n",
    "\n",
    "The second arguement B is an integer.\n",
    "\n",
    "\n",
    "\n",
    "Output Format\n",
    "\n",
    "Return the head of the linked list after deletion\n",
    "\n",
    "\n",
    "\n",
    "Example Input\n",
    "\n",
    "Input 1:\n",
    "A = 1 -> 2 -> 3\n",
    "B = 1\n",
    "Input 2:\n",
    "A = 4 -> 3 -> 2 -> 1\n",
    "B = 0\n",
    "\n",
    "\n",
    "Example Output\n",
    "\n",
    "Output 1:\n",
    "1 -> 3\n",
    "Output 2:\n",
    "3 -> 2 -> 1\n",
    "\n",
    "\n",
    "Example Explanation\n",
    "\n",
    "For Input 1:\n",
    "The linked list after deletion is 1 -> 3.\n",
    "For Input 2:\n",
    "The linked list after deletion is 3 -> 2 -> 1."
   ]
  },
  {
   "cell_type": "code",
   "execution_count": 50,
   "id": "f1ba6b84",
   "metadata": {},
   "outputs": [],
   "source": [
    "class DeleteSolution:\n",
    "    # @param A : head node of linked list\n",
    "    # @param B : integer\n",
    "    # @return the head node in the linked list\n",
    "    def solve(self, A, B):\n",
    "        current = A\n",
    "        \n",
    "        if not A:\n",
    "            return\n",
    "        if B == 0:\n",
    "            A = A.next\n",
    "            return A\n",
    "        \n",
    "        for i in range(B-1):\n",
    "            current = current.next\n",
    "        k = current.next\n",
    "        current.next = k.next\n",
    "        k.next = None\n",
    "        \n",
    "        return A"
   ]
  },
  {
   "cell_type": "code",
   "execution_count": 59,
   "id": "b2dfe9fe",
   "metadata": {},
   "outputs": [
    {
     "data": {
      "text/plain": [
       "<__main__.Node at 0x27f35db4880>"
      ]
     },
     "execution_count": 59,
     "metadata": {},
     "output_type": "execute_result"
    }
   ],
   "source": [
    "DeleteSolution().solve(ll.head,1)"
   ]
  },
  {
   "cell_type": "code",
   "execution_count": 72,
   "id": "dc07f2c2",
   "metadata": {},
   "outputs": [
    {
     "name": "stdout",
     "output_type": "stream",
     "text": [
      "1 \n"
     ]
    }
   ],
   "source": [
    "Solution().solve(ll.head)"
   ]
  },
  {
   "cell_type": "markdown",
   "id": "e6cc45b7",
   "metadata": {},
   "source": [
    "# Reverse Linked List\n"
   ]
  },
  {
   "cell_type": "markdown",
   "id": "e6ac81d0",
   "metadata": {},
   "source": [
    "Problem Description\n",
    "\n",
    "You are given a singly linked list having head node A. You have to reverse the linked list and return the head node of that reversed list.\n",
    "\n",
    "NOTE: You have to do it in-place and in one-pass.\n",
    "\n",
    "\n",
    "\n",
    "Problem Constraints\n",
    "\n",
    "1 <= Length of linked list <= 105\n",
    "\n",
    "Value of each node is within the range of a 32-bit integer.\n",
    "\n",
    "\n",
    "\n",
    "Input Format\n",
    "\n",
    "First and only argument is a linked-list node A.\n",
    "\n",
    "\n",
    "\n",
    "Output Format\n",
    "\n",
    "Return a linked-list node denoting the head of the reversed linked list.\n",
    "\n",
    "\n",
    "\n",
    "Example Input\n",
    "\n",
    "Input 1:\n",
    "\n",
    " A = 1 -> 2 -> 3 -> 4 -> 5 -> NULL \n",
    "Input 2:\n",
    "\n",
    " A = 3 -> NULL \n",
    "\n",
    "\n",
    "Example Output\n",
    "\n",
    "Output 1:\n",
    "\n",
    " 5 -> 4 -> 3 -> 2 -> 1 -> NULL \n",
    "Output 2:\n",
    "\n",
    " 3 -> NULL "
   ]
  },
  {
   "cell_type": "code",
   "execution_count": 117,
   "id": "6f05d6e6",
   "metadata": {},
   "outputs": [],
   "source": [
    "class ReverseSolution:\n",
    "    # @param A : head node of linked list\n",
    "    # @return the head node in the linked list\n",
    "    def reverseList(self, A):\n",
    "        if A.next is None:\n",
    "            return A\n",
    "        \n",
    "        current = A\n",
    "        prev = None\n",
    "        next_node = A.next\n",
    "        \n",
    "        while current:\n",
    "            next_node = current.next\n",
    "            current.next = prev\n",
    "            prev = current\n",
    "            current = next_node\n",
    "        return prev"
   ]
  },
  {
   "cell_type": "code",
   "execution_count": 126,
   "id": "d4600ccf",
   "metadata": {},
   "outputs": [
    {
     "name": "stdout",
     "output_type": "stream",
     "text": [
      "1 \n"
     ]
    }
   ],
   "source": [
    "new_head = ReverseSolution().reverseList(ll.head)\n",
    "DisplaySolution().solve(new_head)"
   ]
  },
  {
   "cell_type": "code",
   "execution_count": 128,
   "id": "f6bbcb18",
   "metadata": {},
   "outputs": [
    {
     "name": "stdout",
     "output_type": "stream",
     "text": [
      "Original list:\n",
      "1 2 3 4 5 \n",
      "5 4 3 2 1 \n"
     ]
    }
   ],
   "source": [
    "ll = LinkedList()\n",
    "ll.insert(1, 0)\n",
    "ll.insert(2, 1)\n",
    "ll.insert(3, 2)\n",
    "ll.insert(4,3)\n",
    "ll.insert(5, 4)\n",
    "print(\"Original list:\")\n",
    "DisplaySolution().solve(ll.head)\n",
    "new_head = ReverseSolution().reverseList(ll.head)\n",
    "DisplaySolution().solve(new_head)"
   ]
  },
  {
   "cell_type": "markdown",
   "id": "457f8620",
   "metadata": {},
   "source": [
    "# Appending to LL"
   ]
  },
  {
   "cell_type": "code",
   "execution_count": null,
   "id": "a82220b9",
   "metadata": {},
   "outputs": [],
   "source": [
    "class Node:\n",
    "    def __ini__(self,val,nex):\n",
    "        self.val = val\n",
    "        self.next = None\n",
    "\n",
    "class AppendtoLL:\n",
    "    new_node = Node()\n",
    "    def __ini__(self, val, head):\n",
    "        if head is None:\n",
    "            return new_node\n",
    "        "
   ]
  }
 ],
 "metadata": {
  "kernelspec": {
   "display_name": "Python 3",
   "language": "python",
   "name": "python3"
  },
  "language_info": {
   "codemirror_mode": {
    "name": "ipython",
    "version": 3
   },
   "file_extension": ".py",
   "mimetype": "text/x-python",
   "name": "python",
   "nbconvert_exporter": "python",
   "pygments_lexer": "ipython3",
   "version": "3.9.1"
  }
 },
 "nbformat": 4,
 "nbformat_minor": 5
}
