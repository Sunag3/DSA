{
 "cells": [
  {
   "cell_type": "markdown",
   "id": "cdd8e33d",
   "metadata": {},
   "source": [
    "# Q. Ath Magical Number"
   ]
  },
  {
   "cell_type": "markdown",
   "id": "e79a42b1",
   "metadata": {},
   "source": [
    "Problem Description\n",
    "You are given three positive integers, A, B, and C.\n",
    "\n",
    "Any positive integer is magical if divisible by either B or C.\n",
    "\n",
    "Return the Ath smallest magical number. Since the answer may be very large, return modulo 109 + 7.\n",
    "\n",
    "Note: Ensure to prevent integer overflow while calculating.\n",
    "\n",
    "\n",
    "\n",
    "Problem Constraints\n",
    "1 <= A <= 109\n",
    "\n",
    "2 <= B, C <= 40000\n",
    "\n",
    "\n",
    "\n",
    "Input Format\n",
    "The first argument given is an integer A.\n",
    "\n",
    "The second argument given is an integer B.\n",
    "\n",
    "The third argument given is an integer C.\n",
    "\n",
    "\n",
    "\n",
    "Output Format\n",
    "Return the Ath smallest magical number. Since the answer may be very large, return modulo 109 + 7.\n",
    "\n",
    "\n",
    "\n",
    "Example Input\n",
    "Input 1:\n",
    "\n",
    " A = 1\n",
    " B = 2\n",
    " C = 3\n",
    "Input 2:\n",
    "\n",
    " A = 4\n",
    " B = 2\n",
    " C = 3\n",
    "\n",
    "\n",
    "Example Output\n",
    "Output 1:\n",
    "\n",
    " 2\n",
    "Output 2:\n",
    "\n",
    " 6\n",
    "\n",
    "\n",
    "Example Explanation\n",
    "Explanation 1:\n",
    "\n",
    " 1st magical number is 2.\n",
    "Explanation 2:\n",
    "\n",
    " First four magical numbers are 2, 3, 4, 6 so the 4th magical number is 6.\n",
    "\n"
   ]
  },
  {
   "cell_type": "code",
   "execution_count": 5,
   "id": "c0170288",
   "metadata": {},
   "outputs": [
    {
     "data": {
      "text/plain": [
       "22"
      ]
     },
     "execution_count": 5,
     "metadata": {},
     "output_type": "execute_result"
    }
   ],
   "source": [
    "import math\n",
    "class Solution:\n",
    "    # @param A : integer\n",
    "    # @param B : integer\n",
    "    # @param C : integer\n",
    "    # @return an integer\n",
    "    def solve(self, A, B, C):\n",
    "        lo = 1\n",
    "        hi = A * min(B,C)\n",
    "        modulo = (10**9) + 7\n",
    "        ans = -1\n",
    "        \n",
    "        while (lo<=hi):\n",
    "            mid = (lo+hi)//2\n",
    "            \n",
    "            lcm = (B*C)// math.gcd(B,C)\n",
    "            no_magical = (mid//B) + (mid//C) - (mid//lcm)\n",
    "\n",
    "            if no_magical > A:\n",
    "                hi = mid - 1\n",
    "            elif no_magical < A:\n",
    "                lo = mid + 1\n",
    "            else:\n",
    "                ans = mid\n",
    "                hi = mid - 1\n",
    "        return ans\n",
    "                \n",
    "                \n",
    "        \n",
    "\n",
    "A=3\n",
    "B=11\n",
    "C=13\n",
    "Solution().solve(A,B,C)"
   ]
  },
  {
   "cell_type": "markdown",
   "id": "09a6481c",
   "metadata": {},
   "source": [
    "# Q2. Painters Problem"
   ]
  },
  {
   "cell_type": "markdown",
   "id": "38b2eb32",
   "metadata": {},
   "source": [
    "Problem Description\n",
    "Given 2 integers A and B and an array of integers C of size N. Element C[i] represents the length of ith board.\n",
    "You have to paint all N boards [C0, C1, C2, C3 … CN-1]. There are A painters available and each of them takes B units of time to paint 1 unit of the board.\n",
    "\n",
    "Calculate and return the minimum time required to paint all boards under the constraints that any painter will only paint contiguous sections of the board.\n",
    "NOTE:\n",
    "1. 2 painters cannot share a board to paint. That is to say, a board cannot be painted partially by one painter, and partially by another.\n",
    "2. A painter will only paint contiguous boards. This means a configuration where painter 1 paints boards 1 and 3 but not 2 is invalid.\n",
    "\n",
    "Return the ans % 10000003.\n",
    "\n",
    "\n",
    "\n",
    "Problem Constraints\n",
    "1 <= A <= 1000\n",
    "1 <= B <= 106\n",
    "1 <= N <= 105\n",
    "1 <= C[i] <= 106\n",
    "\n",
    "\n",
    "\n",
    "Input Format\n",
    "The first argument given is the integer A.\n",
    "The second argument given is the integer B.\n",
    "The third argument given is the integer array C.\n",
    "\n",
    "\n",
    "\n",
    "Output Format\n",
    "Return minimum time required to paint all boards under the constraints that any painter will only paint contiguous sections of board % 10000003.\n",
    "\n",
    "\n",
    "\n",
    "Example Input\n",
    "Input 1:\n",
    "\n",
    " A = 2\n",
    " B = 5\n",
    " C = [1, 10]\n",
    "Input 2:\n",
    "\n",
    " A = 10\n",
    " B = 1\n",
    " C = [1, 8, 11, 3]\n",
    "\n",
    "\n",
    "Example Output\n",
    "Output 1:\n",
    "\n",
    " 50\n",
    "Output 2:\n",
    "\n",
    " 11\n",
    "\n",
    "\n",
    "Example Explanation\n",
    "Explanation 1:\n",
    "\n",
    " Possibility 1:- One painter paints both blocks, time taken = 55 units.\n",
    " Possibility 2:- Painter 1 paints block 1, painter 2 paints block 2, time take = max(5, 50) = 50\n",
    " There are no other distinct ways to paint boards.\n",
    " ans = 50 % 10000003\n",
    "Explanation 2:\n",
    "\n",
    " Each block is painted by a painter so, Painter 1 paints block 1, painter 2 paints block 2, painter 3 paints block 3 \n",
    " and painter 4 paints block 4, time taken = max(1, 8, 11, 3) = 11\n",
    " ans = 11 % 10000003\n"
   ]
  },
  {
   "cell_type": "code",
   "execution_count": 6,
   "id": "0a62a3cb",
   "metadata": {},
   "outputs": [
    {
     "data": {
      "text/plain": [
       "11"
      ]
     },
     "execution_count": 6,
     "metadata": {},
     "output_type": "execute_result"
    }
   ],
   "source": [
    "def check(arr,mid,p):\n",
    "    current_sum=0\n",
    "    no_painters = 1\n",
    "    \n",
    "    for i in range(len(arr)):\n",
    "        if current_sum + arr[i] <= mid:\n",
    "            current_sum += arr[i]\n",
    "        else:\n",
    "            no_painters+=1\n",
    "            current_sum = arr[i]\n",
    "    if no_painters > p :\n",
    "        return False\n",
    "    else:\n",
    "        return True\n",
    "\n",
    "class Solution:\n",
    "    # @param A : integer\n",
    "    # @param B : integer\n",
    "    # @param C : list of integers\n",
    "    # @return an integer\n",
    "    def paint(self, A, B, C):\n",
    "        lo = max(C)\n",
    "        hi = sum(C)\n",
    "        \n",
    "        while (lo<=hi):\n",
    "            mid = (lo+hi)//2\n",
    "            \n",
    "            if check(C,mid,A):\n",
    "                ans = mid\n",
    "                hi = mid -1\n",
    "            else:\n",
    "                lo = mid + 1\n",
    "        return (ans*B) % 10000003\n",
    "                \n",
    "        \n",
    "\n",
    "    \n",
    "A = 10\n",
    "B = 1\n",
    "C = [1, 8, 11, 3]\n",
    "\n",
    "Solution().paint(A,B,C)\n"
   ]
  },
  {
   "cell_type": "code",
   "execution_count": 7,
   "id": "c78bed04",
   "metadata": {},
   "outputs": [
    {
     "data": {
      "text/plain": [
       "50"
      ]
     },
     "execution_count": 7,
     "metadata": {},
     "output_type": "execute_result"
    }
   ],
   "source": [
    "A = 2\n",
    "B = 5\n",
    "C = [1, 10]\n",
    "\n",
    "Solution().paint(A,B,C)"
   ]
  },
  {
   "cell_type": "markdown",
   "id": "02da5027",
   "metadata": {},
   "source": [
    "# Q3. Aggressive cows\n"
   ]
  },
  {
   "cell_type": "markdown",
   "id": "4d27b12a",
   "metadata": {},
   "source": [
    "Problem Description\n",
    "Farmer John has built a new long barn with N stalls. Given an array of integers A of size N where each element of the array represents the location of the stall and an integer B which represents the number of cows.\n",
    "\n",
    "His cows don't like this barn layout and become aggressive towards each other once put into a stall. To prevent the cows from hurting each other, John wants to assign the cows to the stalls, such that the minimum distance between any two of them is as large as possible. What is the largest minimum distance?\n",
    "\n",
    "\n",
    "\n",
    "Problem Constraints\n",
    "2 <= N <= 100000\n",
    "0 <= A[i] <= 109\n",
    "2 <= B <= N\n",
    "\n",
    "\n",
    "\n",
    "Input Format\n",
    "The first argument given is the integer array A.\n",
    "The second argument given is the integer B.\n",
    "\n",
    "\n",
    "\n",
    "Output Format\n",
    "Return the largest minimum distance possible among the cows.\n",
    "\n",
    "\n",
    "\n",
    "Example Input\n",
    "Input 1:\n",
    "\n",
    "A = [1, 2, 3, 4, 5]\n",
    "B = 3\n",
    "Input 2:\n",
    "\n",
    "A = [1, 2]\n",
    "B = 2\n",
    "\n",
    "\n",
    "Example Output\n",
    "Output 1:\n",
    "\n",
    " 2\n",
    "Output 2:\n",
    "\n",
    " 1\n",
    "\n",
    "\n",
    "Example Explanation\n",
    "Explanation 1:\n",
    "\n",
    " John can assign the stalls at location 1, 3 and 5 to the 3 cows respectively. So the minimum distance will be 2.\n",
    "Explanation 2:\n",
    "\n",
    " The minimum distance will be 1."
   ]
  },
  {
   "cell_type": "code",
   "execution_count": 20,
   "id": "290ac56b",
   "metadata": {},
   "outputs": [
    {
     "data": {
      "text/plain": [
       "2"
      ]
     },
     "execution_count": 20,
     "metadata": {},
     "output_type": "execute_result"
    }
   ],
   "source": [
    "# A = [1, 2, 3, 4, 5]\n",
    "# B = 3\n",
    "\n",
    "def check_distance(A,mid,B):\n",
    "    count = 1\n",
    "    prev = A[0]\n",
    "\n",
    "    for i in range(1,len(A)):\n",
    "        if A[i] - prev >= mid:\n",
    "            count +=1\n",
    "            prev = A[i]\n",
    "    if count >= B:\n",
    "        return True\n",
    "    else:\n",
    "        return False\n",
    "\n",
    "\n",
    "class Solution:\n",
    "    # @param A : list of integers\n",
    "    # @param B : integer\n",
    "    # @return an integer\n",
    "    def solve(self, A, B):\n",
    "        # Search space\n",
    "        A.sort()\n",
    "        lo = 1\n",
    "        hi = A[len(A)-1] - A[0]\n",
    "        \n",
    "        while (lo<=hi):\n",
    "            mid = (lo+hi)//2\n",
    "            if check_distance(A,mid,B):\n",
    "                ans = mid\n",
    "                lo = mid + 1\n",
    "            else:\n",
    "                hi = mid - 1\n",
    "        return ans\n",
    "                \n",
    "A = [5,1, 2, 3, 4, 5]\n",
    "B = 3\n",
    "Solution().solve(A,B)"
   ]
  },
  {
   "cell_type": "code",
   "execution_count": 18,
   "id": "47f6f506",
   "metadata": {},
   "outputs": [],
   "source": [
    "A = [ 2, 3, 4, 5,1]\n",
    "A.sort()"
   ]
  },
  {
   "cell_type": "code",
   "execution_count": 19,
   "id": "b1086317",
   "metadata": {},
   "outputs": [
    {
     "data": {
      "text/plain": [
       "[1, 2, 3, 4, 5]"
      ]
     },
     "execution_count": 19,
     "metadata": {},
     "output_type": "execute_result"
    }
   ],
   "source": [
    "A"
   ]
  },
  {
   "cell_type": "code",
   "execution_count": null,
   "id": "737e03a7",
   "metadata": {},
   "outputs": [],
   "source": []
  }
 ],
 "metadata": {
  "kernelspec": {
   "display_name": "Python 3",
   "language": "python",
   "name": "python3"
  },
  "language_info": {
   "codemirror_mode": {
    "name": "ipython",
    "version": 3
   },
   "file_extension": ".py",
   "mimetype": "text/x-python",
   "name": "python",
   "nbconvert_exporter": "python",
   "pygments_lexer": "ipython3",
   "version": "3.9.1"
  }
 },
 "nbformat": 4,
 "nbformat_minor": 5
}
