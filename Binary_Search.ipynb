{
 "cells": [
  {
   "cell_type": "markdown",
   "id": "202a8b28",
   "metadata": {},
   "source": [
    "# Q. Ath Magical Number"
   ]
  },
  {
   "cell_type": "raw",
   "id": "9ec43bf6",
   "metadata": {},
   "source": [
    "Problem Description\n",
    "You are given three positive integers, A, B, and C.\n",
    "\n",
    "Any positive integer is magical if divisible by either B or C.\n",
    "\n",
    "Return the Ath smallest magical number. Since the answer may be very large, return modulo 109 + 7.\n",
    "\n",
    "Note: Ensure to prevent integer overflow while calculating.\n",
    "\n",
    "\n",
    "\n",
    "Problem Constraints\n",
    "1 <= A <= 109\n",
    "\n",
    "2 <= B, C <= 40000\n",
    "\n",
    "\n",
    "\n",
    "Input Format\n",
    "The first argument given is an integer A.\n",
    "\n",
    "The second argument given is an integer B.\n",
    "\n",
    "The third argument given is an integer C.\n",
    "\n",
    "\n",
    "\n",
    "Output Format\n",
    "Return the Ath smallest magical number. Since the answer may be very large, return modulo 109 + 7.\n",
    "\n",
    "\n",
    "\n",
    "Example Input\n",
    "Input 1:\n",
    "\n",
    " A = 1\n",
    " B = 2\n",
    " C = 3\n",
    "Input 2:\n",
    "\n",
    " A = 4\n",
    " B = 2\n",
    " C = 3\n",
    "\n",
    "\n",
    "Example Output\n",
    "Output 1:\n",
    "\n",
    " 2\n",
    "Output 2:\n",
    "\n",
    " 6\n",
    "\n",
    "\n",
    "Example Explanation\n",
    "Explanation 1:\n",
    "\n",
    " 1st magical number is 2.\n",
    "Explanation 2:\n",
    "\n",
    " First four magical numbers are 2, 3, 4, 6 so the 4th magical number is 6.\n",
    "\n"
   ]
  },
  {
   "cell_type": "code",
   "execution_count": 5,
   "id": "c0170288",
   "metadata": {},
   "outputs": [
    {
     "data": {
      "text/plain": [
       "22"
      ]
     },
     "execution_count": 5,
     "metadata": {},
     "output_type": "execute_result"
    }
   ],
   "source": [
    "import math\n",
    "class Solution:\n",
    "    # @param A : integer\n",
    "    # @param B : integer\n",
    "    # @param C : integer\n",
    "    # @return an integer\n",
    "    def solve(self, A, B, C):\n",
    "        lo = 1\n",
    "        hi = A * min(B,C)\n",
    "        modulo = (10**9) + 7\n",
    "        ans = -1\n",
    "        \n",
    "        while (lo<=hi):\n",
    "            mid = (lo+hi)//2\n",
    "            \n",
    "            lcm = (B*C)// math.gcd(B,C)\n",
    "            no_magical = (mid//B) + (mid//C) - (mid//lcm)\n",
    "\n",
    "            if no_magical > A:\n",
    "                hi = mid - 1\n",
    "            elif no_magical < A:\n",
    "                lo = mid + 1\n",
    "            else:\n",
    "                ans = mid\n",
    "                hi = mid - 1\n",
    "        return ans\n",
    "                \n",
    "                \n",
    "        \n",
    "\n",
    "A=3\n",
    "B=11\n",
    "C=13\n",
    "Solution().solve(A,B,C)"
   ]
  },
  {
   "cell_type": "markdown",
   "id": "59ab8dc7",
   "metadata": {},
   "source": [
    "# Q2. Painters Problem"
   ]
  },
  {
   "cell_type": "raw",
   "id": "a481cbd0",
   "metadata": {},
   "source": [
    "Problem Description\n",
    "Given 2 integers A and B and an array of integers C of size N. Element C[i] represents the length of ith board.\n",
    "You have to paint all N boards [C0, C1, C2, C3 … CN-1]. There are A painters available and each of them takes B units of time to paint 1 unit of the board.\n",
    "\n",
    "Calculate and return the minimum time required to paint all boards under the constraints that any painter will only paint contiguous sections of the board.\n",
    "NOTE:\n",
    "1. 2 painters cannot share a board to paint. That is to say, a board cannot be painted partially by one painter, and partially by another.\n",
    "2. A painter will only paint contiguous boards. This means a configuration where painter 1 paints boards 1 and 3 but not 2 is invalid.\n",
    "\n",
    "Return the ans % 10000003.\n",
    "\n",
    "\n",
    "\n",
    "Problem Constraints\n",
    "1 <= A <= 1000\n",
    "1 <= B <= 106\n",
    "1 <= N <= 105\n",
    "1 <= C[i] <= 106\n",
    "\n",
    "\n",
    "\n",
    "Input Format\n",
    "The first argument given is the integer A.\n",
    "The second argument given is the integer B.\n",
    "The third argument given is the integer array C.\n",
    "\n",
    "\n",
    "\n",
    "Output Format\n",
    "Return minimum time required to paint all boards under the constraints that any painter will only paint contiguous sections of board % 10000003.\n",
    "\n",
    "\n",
    "\n",
    "Example Input\n",
    "Input 1:\n",
    "\n",
    " A = 2\n",
    " B = 5\n",
    " C = [1, 10]\n",
    "Input 2:\n",
    "\n",
    " A = 10\n",
    " B = 1\n",
    " C = [1, 8, 11, 3]\n",
    "\n",
    "\n",
    "Example Output\n",
    "Output 1:\n",
    "\n",
    " 50\n",
    "Output 2:\n",
    "\n",
    " 11\n",
    "\n",
    "\n",
    "Example Explanation\n",
    "Explanation 1:\n",
    "\n",
    " Possibility 1:- One painter paints both blocks, time taken = 55 units.\n",
    " Possibility 2:- Painter 1 paints block 1, painter 2 paints block 2, time take = max(5, 50) = 50\n",
    " There are no other distinct ways to paint boards.\n",
    " ans = 50 % 10000003\n",
    "Explanation 2:\n",
    "\n",
    " Each block is painted by a painter so, Painter 1 paints block 1, painter 2 paints block 2, painter 3 paints block 3 \n",
    " and painter 4 paints block 4, time taken = max(1, 8, 11, 3) = 11\n",
    " ans = 11 % 10000003\n"
   ]
  },
  {
   "cell_type": "code",
   "execution_count": 6,
   "id": "c977f66c",
   "metadata": {},
   "outputs": [
    {
     "data": {
      "text/plain": [
       "11"
      ]
     },
     "execution_count": 6,
     "metadata": {},
     "output_type": "execute_result"
    }
   ],
   "source": [
    "def check(arr,mid,p):\n",
    "    current_sum=0\n",
    "    no_painters = 1\n",
    "    \n",
    "    for i in range(len(arr)):\n",
    "        if current_sum + arr[i] <= mid:\n",
    "            current_sum += arr[i]\n",
    "        else:\n",
    "            no_painters+=1\n",
    "            current_sum = arr[i]\n",
    "    if no_painters > p :\n",
    "        return False\n",
    "    else:\n",
    "        return True\n",
    "\n",
    "class Solution:\n",
    "    # @param A : integer\n",
    "    # @param B : integer\n",
    "    # @param C : list of integers\n",
    "    # @return an integer\n",
    "    def paint(self, A, B, C):\n",
    "        lo = max(C)\n",
    "        hi = sum(C)\n",
    "        \n",
    "        while (lo<=hi):\n",
    "            mid = (lo+hi)//2\n",
    "            \n",
    "            if check(C,mid,A):\n",
    "                ans = mid\n",
    "                hi = mid -1\n",
    "            else:\n",
    "                lo = mid + 1\n",
    "        return (ans*B) % 10000003\n",
    "                \n",
    "        \n",
    "\n",
    "    \n",
    "A = 10\n",
    "B = 1\n",
    "C = [1, 8, 11, 3]\n",
    "\n",
    "Solution().paint(A,B,C)\n"
   ]
  },
  {
   "cell_type": "code",
   "execution_count": 7,
   "id": "61247174",
   "metadata": {},
   "outputs": [
    {
     "data": {
      "text/plain": [
       "50"
      ]
     },
     "execution_count": 7,
     "metadata": {},
     "output_type": "execute_result"
    }
   ],
   "source": [
    "A = 2\n",
    "B = 5\n",
    "C = [1, 10]\n",
    "\n",
    "Solution().paint(A,B,C)"
   ]
  },
  {
   "cell_type": "markdown",
   "id": "54261591",
   "metadata": {},
   "source": [
    "# Q3. Aggressive cows\n"
   ]
  },
  {
   "cell_type": "raw",
   "id": "23e58297",
   "metadata": {},
   "source": [
    "Problem Description\n",
    "Farmer John has built a new long barn with N stalls. Given an array of integers A of size N where each element of the array represents the location of the stall and an integer B which represents the number of cows.\n",
    "\n",
    "His cows don't like this barn layout and become aggressive towards each other once put into a stall. To prevent the cows from hurting each other, John wants to assign the cows to the stalls, such that the minimum distance between any two of them is as large as possible. What is the largest minimum distance?\n",
    "\n",
    "\n",
    "\n",
    "Problem Constraints\n",
    "2 <= N <= 100000\n",
    "0 <= A[i] <= 109\n",
    "2 <= B <= N\n",
    "\n",
    "\n",
    "\n",
    "Input Format\n",
    "The first argument given is the integer array A.\n",
    "The second argument given is the integer B.\n",
    "\n",
    "\n",
    "\n",
    "Output Format\n",
    "Return the largest minimum distance possible among the cows.\n",
    "\n",
    "\n",
    "\n",
    "Example Input\n",
    "Input 1:\n",
    "\n",
    "A = [1, 2, 3, 4, 5]\n",
    "B = 3\n",
    "Input 2:\n",
    "\n",
    "A = [1, 2]\n",
    "B = 2\n",
    "\n",
    "\n",
    "Example Output\n",
    "Output 1:\n",
    "\n",
    " 2\n",
    "Output 2:\n",
    "\n",
    " 1\n",
    "\n",
    "\n",
    "Example Explanation\n",
    "Explanation 1:\n",
    "\n",
    " John can assign the stalls at location 1, 3 and 5 to the 3 cows respectively. So the minimum distance will be 2.\n",
    "Explanation 2:\n",
    "\n",
    " The minimum distance will be 1."
   ]
  },
  {
   "cell_type": "code",
   "execution_count": 20,
   "id": "ea398d01",
   "metadata": {},
   "outputs": [
    {
     "data": {
      "text/plain": [
       "2"
      ]
     },
     "execution_count": 20,
     "metadata": {},
     "output_type": "execute_result"
    }
   ],
   "source": [
    "# A = [1, 2, 3, 4, 5]\n",
    "# B = 3\n",
    "\n",
    "def check_distance(A,mid,B):\n",
    "    count = 1\n",
    "    prev = A[0]\n",
    "\n",
    "    for i in range(1,len(A)):\n",
    "        if A[i] - prev >= mid:\n",
    "            count +=1\n",
    "            prev = A[i]\n",
    "    if count >= B:\n",
    "        return True\n",
    "    else:\n",
    "        return False\n",
    "\n",
    "\n",
    "class Solution:\n",
    "    # @param A : list of integers\n",
    "    # @param B : integer\n",
    "    # @return an integer\n",
    "    def solve(self, A, B):\n",
    "        # Search space\n",
    "        A.sort()\n",
    "        lo = 1\n",
    "        hi = A[len(A)-1] - A[0]\n",
    "        \n",
    "        while (lo<=hi):\n",
    "            mid = (lo+hi)//2\n",
    "            if check_distance(A,mid,B):\n",
    "                ans = mid\n",
    "                lo = mid + 1\n",
    "            else:\n",
    "                hi = mid - 1\n",
    "        return ans\n",
    "                \n",
    "A = [5,1, 2, 3, 4, 5]\n",
    "B = 3\n",
    "Solution().solve(A,B)"
   ]
  },
  {
   "cell_type": "code",
   "execution_count": 18,
   "id": "f1caef69",
   "metadata": {},
   "outputs": [],
   "source": [
    "A = [ 2, 3, 4, 5,1]\n",
    "A.sort()"
   ]
  },
  {
   "cell_type": "code",
   "execution_count": 19,
   "id": "a67ee16b",
   "metadata": {},
   "outputs": [
    {
     "data": {
      "text/plain": [
       "[1, 2, 3, 4, 5]"
      ]
     },
     "execution_count": 19,
     "metadata": {},
     "output_type": "execute_result"
    }
   ],
   "source": [
    "A"
   ]
  },
  {
   "cell_type": "markdown",
   "id": "5054a392",
   "metadata": {},
   "source": [
    "# Q4. Allocate Books"
   ]
  },
  {
   "cell_type": "raw",
   "id": "d56ca8d2",
   "metadata": {},
   "source": [
    "Problem Description\n",
    "Given an array of integers A of size N and an integer B.\n",
    "\n",
    "The College library has N books. The ith book has A[i] number of pages.\n",
    "\n",
    "You have to allocate books to B number of students so that the maximum number of pages allocated to a student is minimum.\n",
    "\n",
    "A book will be allocated to exactly one student.\n",
    "Each student has to be allocated at least one book.\n",
    "Allotment should be in contiguous order, for example: A student cannot be allocated book 1 and book 3, skipping book 2.\n",
    "Calculate and return that minimum possible number.\n",
    "\n",
    "NOTE: Return -1 if a valid assignment is not possible.\n",
    "\n",
    "\n",
    "\n",
    "Problem Constraints\n",
    "1 <= N <= 105\n",
    "1 <= A[i], B <= 105\n",
    "\n",
    "\n",
    "\n",
    "Input Format\n",
    "The first argument given is the integer array A.\n",
    "The second argument given is the integer B.\n",
    "\n",
    "\n",
    "\n",
    "Output Format\n",
    "Return that minimum possible number.\n",
    "\n",
    "\n",
    "\n",
    "Example Input\n",
    "Input 1:\n",
    "A = [12, 34, 67, 90]\n",
    "B = 2\n",
    "Input 2:\n",
    "A = [12, 15, 78] \n",
    "B = 4\n",
    "\n",
    "\n",
    "Example Output\n",
    "Output 1:\n",
    "113\n",
    "Output 2:\n",
    "-1\n"
   ]
  },
  {
   "cell_type": "code",
   "execution_count": 23,
   "id": "4470db8a",
   "metadata": {},
   "outputs": [],
   "source": [
    "def check_no_of_pages(A,B, mid):\n",
    "    current_student = 0\n",
    "    no_students = 1\n",
    "\n",
    "    for i in range(len(A)):\n",
    "        if current_student + A[i] <= mid:\n",
    "            current_student += A[i]\n",
    "        else:\n",
    "            no_students +=1\n",
    "            current_student = A[i]\n",
    "    if no_students > B:\n",
    "        return False\n",
    "    else:\n",
    "        return True\n",
    "\n",
    "\n",
    "class Solution:\n",
    "    #@param A : list of integers\n",
    "    #@param B : integer\n",
    "    #@return an integer\n",
    "    def books(self, A, B):\n",
    "        # if number of students == number of books\n",
    "        lo = max(A)\n",
    "        # if number of students == 1\n",
    "        # he has to read all books with all pages\n",
    "        hi = sum(A)\n",
    "\n",
    "        # if number of students greater than number of books no allocation\n",
    "        if B > len(A):\n",
    "            return -1\n",
    "\n",
    "        # now proceed with the implementation\n",
    "\n",
    "        while (lo<=hi):\n",
    "            mid = (lo+hi)//2\n",
    "            \n",
    "            if check_no_of_pages(A,B,mid):\n",
    "                ans = mid\n",
    "                # i want less pages go left for smaller pages \n",
    "                # allocation\n",
    "                hi = mid - 1\n",
    "            else:\n",
    "                # go right\n",
    "                lo = mid + 1\n",
    "        return ans\n"
   ]
  },
  {
   "cell_type": "code",
   "execution_count": 24,
   "id": "facfe0a1",
   "metadata": {},
   "outputs": [
    {
     "data": {
      "text/plain": [
       "113"
      ]
     },
     "execution_count": 24,
     "metadata": {},
     "output_type": "execute_result"
    }
   ],
   "source": [
    "A = [12, 34, 67, 90]\n",
    "B = 2\n",
    "Solution().books(A,B)"
   ]
  },
  {
   "cell_type": "markdown",
   "id": "ac2fd428",
   "metadata": {},
   "source": [
    "# Q5. Special Integer"
   ]
  },
  {
   "cell_type": "raw",
   "id": "28c7d2bc",
   "metadata": {},
   "source": [
    "Problem Description\n",
    "Given an array of integers A and an integer B, find and return the maximum value K such that there is no subarray in A of size K with the sum of elements greater than B.\n",
    "\n",
    "\n",
    "\n",
    "Problem Constraints\n",
    "1 <= |A| <= 100000\n",
    "1 <= A[i] <= 10^9\n",
    "\n",
    "1 <= B <= 10^9\n",
    "\n",
    "\n",
    "\n",
    "Input Format\n",
    "The first argument given is the integer array A.\n",
    "\n",
    "The second argument given is integer B.\n",
    "\n",
    "\n",
    "\n",
    "Output Format\n",
    "Return the maximum value of K (sub array length).\n",
    "\n",
    "\n",
    "\n",
    "Example Input\n",
    "Input 1:\n",
    "\n",
    "A = [1, 2, 3, 4, 5]\n",
    "B = 10\n",
    "Input 2:\n",
    "\n",
    "A = [5, 17, 100, 11]\n",
    "B = 130\n",
    "\n",
    "\n",
    "Example Output\n",
    "Output 1:\n",
    "\n",
    " 2\n",
    "Output 2:\n",
    "\n",
    " 3\n",
    "\n",
    "\n",
    "Example Explanation\n",
    "Explanation 1:\n",
    "\n",
    "For K = 5, There are subarrays [1, 2, 3, 4, 5] which has a sum > B\n",
    "For K = 4, There are subarrays [1, 2, 3, 4], [2, 3, 4, 5] which has a sum > B\n",
    "For K = 3, There is a subarray [3, 4, 5] which has a sum > B\n",
    "For K = 2, There were no subarray which has a sum > B.\n",
    "Constraints are satisfied for maximal value of 2.\n",
    "Explanation 2:\n",
    "\n",
    "For K = 4, There are subarrays [5, 17, 100, 11] which has a sum > B\n",
    "For K = 3, There were no subarray which has a sum > B.\n",
    "Constraints are satisfied for maximal value of 3."
   ]
  },
  {
   "cell_type": "code",
   "execution_count": 25,
   "id": "b274a682",
   "metadata": {},
   "outputs": [
    {
     "data": {
      "text/plain": [
       "2"
      ]
     },
     "execution_count": 25,
     "metadata": {},
     "output_type": "execute_result"
    }
   ],
   "source": [
    "def check_no_of_sub_arr(A, B, mid):\n",
    "    window_sum = sum(A[:mid])\n",
    "\n",
    "    if window_sum > B :\n",
    "        return False\n",
    "    for i in range(mid,len(A)):\n",
    "        window_sum = window_sum - A[i-mid] + A[i]\n",
    "        if window_sum > B:\n",
    "            return False\n",
    "    return True\n",
    "\n",
    "\n",
    "\n",
    "\n",
    "class Solution:\n",
    "    # @param A : list of integers\n",
    "    # @param B : integer\n",
    "    # @return an integer\n",
    "    def solve(self, A, B):\n",
    "        # if B == 1\n",
    "        lo = 1\n",
    "        hi = len(A)\n",
    "        ans = 0\n",
    "\n",
    "        while (lo<=hi):\n",
    "            mid = (lo+hi)//2\n",
    "\n",
    "            if check_no_of_sub_arr(A,B,mid):\n",
    "                ans = mid\n",
    "                # i want bigger sub arrays\n",
    "                # go right\n",
    "                lo = mid + 1\n",
    "            else:\n",
    "                hi = mid - 1\n",
    "        return ans\n",
    "\n",
    "    \n",
    "A = [1, 2, 3, 4, 5]\n",
    "B = 10\n",
    "\n",
    "Solution().solve(A,B)"
   ]
  },
  {
   "cell_type": "code",
   "execution_count": 26,
   "id": "b0c1752c",
   "metadata": {},
   "outputs": [
    {
     "data": {
      "text/plain": [
       "3"
      ]
     },
     "execution_count": 26,
     "metadata": {},
     "output_type": "execute_result"
    }
   ],
   "source": [
    "A = [5, 17, 100, 11]\n",
    "B = 130\n",
    "Solution().solve(A,B)"
   ]
  },
  {
   "cell_type": "code",
   "execution_count": null,
   "id": "3277bcf7",
   "metadata": {},
   "outputs": [],
   "source": []
  }
 ],
 "metadata": {
  "kernelspec": {
   "display_name": "Python 3",
   "language": "python",
   "name": "python3"
  },
  "language_info": {
   "codemirror_mode": {
    "name": "ipython",
    "version": 3
   },
   "file_extension": ".py",
   "mimetype": "text/x-python",
   "name": "python",
   "nbconvert_exporter": "python",
   "pygments_lexer": "ipython3",
   "version": "3.9.1"
  }
 },
 "nbformat": 4,
 "nbformat_minor": 5
}
