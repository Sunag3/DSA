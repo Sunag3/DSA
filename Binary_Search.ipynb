{
 "cells": [
  {
   "cell_type": "markdown",
   "id": "e79a42b1",
   "metadata": {},
   "source": [
    "Problem Description\n",
    "You are given three positive integers, A, B, and C.\n",
    "\n",
    "Any positive integer is magical if divisible by either B or C.\n",
    "\n",
    "Return the Ath smallest magical number. Since the answer may be very large, return modulo 109 + 7.\n",
    "\n",
    "Note: Ensure to prevent integer overflow while calculating.\n",
    "\n",
    "\n",
    "\n",
    "Problem Constraints\n",
    "1 <= A <= 109\n",
    "\n",
    "2 <= B, C <= 40000\n",
    "\n",
    "\n",
    "\n",
    "Input Format\n",
    "The first argument given is an integer A.\n",
    "\n",
    "The second argument given is an integer B.\n",
    "\n",
    "The third argument given is an integer C.\n",
    "\n",
    "\n",
    "\n",
    "Output Format\n",
    "Return the Ath smallest magical number. Since the answer may be very large, return modulo 109 + 7.\n",
    "\n",
    "\n",
    "\n",
    "Example Input\n",
    "Input 1:\n",
    "\n",
    " A = 1\n",
    " B = 2\n",
    " C = 3\n",
    "Input 2:\n",
    "\n",
    " A = 4\n",
    " B = 2\n",
    " C = 3\n",
    "\n",
    "\n",
    "Example Output\n",
    "Output 1:\n",
    "\n",
    " 2\n",
    "Output 2:\n",
    "\n",
    " 6\n",
    "\n",
    "\n",
    "Example Explanation\n",
    "Explanation 1:\n",
    "\n",
    " 1st magical number is 2.\n",
    "Explanation 2:\n",
    "\n",
    " First four magical numbers are 2, 3, 4, 6 so the 4th magical number is 6.\n",
    "\n"
   ]
  },
  {
   "cell_type": "code",
   "execution_count": 5,
   "id": "c0170288",
   "metadata": {},
   "outputs": [
    {
     "data": {
      "text/plain": [
       "22"
      ]
     },
     "execution_count": 5,
     "metadata": {},
     "output_type": "execute_result"
    }
   ],
   "source": [
    "import math\n",
    "class Solution:\n",
    "    # @param A : integer\n",
    "    # @param B : integer\n",
    "    # @param C : integer\n",
    "    # @return an integer\n",
    "    def solve(self, A, B, C):\n",
    "        lo = 1\n",
    "        hi = A * min(B,C)\n",
    "        modulo = (10**9) + 7\n",
    "        ans = -1\n",
    "        \n",
    "        while (lo<=hi):\n",
    "            mid = (lo+hi)//2\n",
    "            \n",
    "            lcm = (B*C)// math.gcd(B,C)\n",
    "            no_magical = (mid//B) + (mid//C) - (mid//lcm)\n",
    "\n",
    "            if no_magical > A:\n",
    "                hi = mid - 1\n",
    "            elif no_magical < A:\n",
    "                lo = mid + 1\n",
    "            else:\n",
    "                ans = mid\n",
    "                hi = mid - 1\n",
    "        return ans\n",
    "                \n",
    "                \n",
    "        \n",
    "\n",
    "A=3\n",
    "B=11\n",
    "C=13\n",
    "Solution().solve(A,B,C)"
   ]
  },
  {
   "cell_type": "code",
   "execution_count": null,
   "id": "6dd2c3ff",
   "metadata": {},
   "outputs": [],
   "source": []
  }
 ],
 "metadata": {
  "kernelspec": {
   "display_name": "Python 3",
   "language": "python",
   "name": "python3"
  },
  "language_info": {
   "codemirror_mode": {
    "name": "ipython",
    "version": 3
   },
   "file_extension": ".py",
   "mimetype": "text/x-python",
   "name": "python",
   "nbconvert_exporter": "python",
   "pygments_lexer": "ipython3",
   "version": "3.9.1"
  }
 },
 "nbformat": 4,
 "nbformat_minor": 5
}
